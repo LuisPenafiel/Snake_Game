{
 "cells": [
  {
   "cell_type": "code",
   "execution_count": 4,
   "metadata": {},
   "outputs": [
    {
     "name": "stdout",
     "output_type": "stream",
     "text": [
      "hello world 2025!\n"
     ]
    }
   ],
   "source": [
    "print (\"hello world 2025!\")"
   ]
  },
  {
   "cell_type": "markdown",
   "metadata": {},
   "source": [
    "# Snake_Python_Game"
   ]
  },
  {
   "cell_type": "markdown",
   "metadata": {},
   "source": [
    "\n",
    "## Pip & Requirements"
   ]
  },
  {
   "cell_type": "code",
   "execution_count": 2,
   "metadata": {},
   "outputs": [
    {
     "name": "stdout",
     "output_type": "stream",
     "text": [
      "Collecting pygame\n",
      "  Downloading pygame-2.6.1-cp311-cp311-win_amd64.whl.metadata (13 kB)\n",
      "Downloading pygame-2.6.1-cp311-cp311-win_amd64.whl (10.6 MB)\n",
      "   ---------------------------------------- 0.0/10.6 MB ? eta -:--:--\n",
      "   - -------------------------------------- 0.3/10.6 MB 8.6 MB/s eta 0:00:02\n",
      "   -- ------------------------------------- 0.6/10.6 MB 7.7 MB/s eta 0:00:02\n",
      "   --- ------------------------------------ 0.9/10.6 MB 7.4 MB/s eta 0:00:02\n",
      "   ---- ----------------------------------- 1.2/10.6 MB 7.2 MB/s eta 0:00:02\n",
      "   ----- ---------------------------------- 1.5/10.6 MB 7.0 MB/s eta 0:00:02\n",
      "   ------ --------------------------------- 1.8/10.6 MB 6.9 MB/s eta 0:00:02\n",
      "   -------- ------------------------------- 2.1/10.6 MB 6.8 MB/s eta 0:00:02\n",
      "   --------- ------------------------------ 2.4/10.6 MB 6.8 MB/s eta 0:00:02\n",
      "   ---------- ----------------------------- 2.7/10.6 MB 6.9 MB/s eta 0:00:02\n",
      "   ----------- ---------------------------- 2.9/10.6 MB 6.7 MB/s eta 0:00:02\n",
      "   ------------ --------------------------- 3.2/10.6 MB 6.7 MB/s eta 0:00:02\n",
      "   ------------- -------------------------- 3.5/10.6 MB 6.6 MB/s eta 0:00:02\n",
      "   -------------- ------------------------- 3.8/10.6 MB 6.6 MB/s eta 0:00:02\n",
      "   --------------- ------------------------ 4.2/10.6 MB 6.7 MB/s eta 0:00:01\n",
      "   ---------------- ----------------------- 4.5/10.6 MB 6.7 MB/s eta 0:00:01\n",
      "   ------------------ --------------------- 4.8/10.6 MB 6.6 MB/s eta 0:00:01\n",
      "   ------------------- -------------------- 5.1/10.6 MB 6.6 MB/s eta 0:00:01\n",
      "   -------------------- ------------------- 5.4/10.6 MB 6.6 MB/s eta 0:00:01\n",
      "   --------------------- ------------------ 5.7/10.6 MB 6.6 MB/s eta 0:00:01\n",
      "   ---------------------- ----------------- 6.0/10.6 MB 6.7 MB/s eta 0:00:01\n",
      "   ----------------------- ---------------- 6.3/10.6 MB 6.7 MB/s eta 0:00:01\n",
      "   ------------------------ --------------- 6.6/10.6 MB 6.6 MB/s eta 0:00:01\n",
      "   ------------------------- -------------- 6.9/10.6 MB 6.6 MB/s eta 0:00:01\n",
      "   --------------------------- ------------ 7.2/10.6 MB 6.6 MB/s eta 0:00:01\n",
      "   ---------------------------- ----------- 7.5/10.6 MB 6.6 MB/s eta 0:00:01\n",
      "   ----------------------------- ---------- 7.8/10.6 MB 6.6 MB/s eta 0:00:01\n",
      "   ------------------------------ --------- 8.1/10.6 MB 6.6 MB/s eta 0:00:01\n",
      "   ------------------------------- -------- 8.4/10.6 MB 6.6 MB/s eta 0:00:01\n",
      "   -------------------------------- ------- 8.7/10.6 MB 6.6 MB/s eta 0:00:01\n",
      "   --------------------------------- ------ 9.0/10.6 MB 6.6 MB/s eta 0:00:01\n",
      "   ----------------------------------- ---- 9.3/10.6 MB 6.6 MB/s eta 0:00:01\n",
      "   ------------------------------------ --- 9.6/10.6 MB 6.6 MB/s eta 0:00:01\n",
      "   ------------------------------------- -- 9.9/10.6 MB 6.6 MB/s eta 0:00:01\n",
      "   -------------------------------------- - 10.2/10.6 MB 6.6 MB/s eta 0:00:01\n",
      "   ---------------------------------------  10.5/10.6 MB 6.5 MB/s eta 0:00:01\n",
      "   ---------------------------------------- 10.6/10.6 MB 6.5 MB/s eta 0:00:00\n",
      "Installing collected packages: pygame\n",
      "Successfully installed pygame-2.6.1\n"
     ]
    },
    {
     "name": "stderr",
     "output_type": "stream",
     "text": [
      "\n",
      "[notice] A new release of pip is available: 24.0 -> 25.0.1\n",
      "[notice] To update, run: python.exe -m pip install --upgrade pip\n"
     ]
    }
   ],
   "source": [
    "!pip install pygame"
   ]
  },
  {
   "cell_type": "markdown",
   "metadata": {},
   "source": [
    "\n",
    "## All Imports"
   ]
  },
  {
   "cell_type": "code",
   "execution_count": 3,
   "metadata": {},
   "outputs": [],
   "source": [
    "import math\n",
    "import random\n",
    "import pygame\n",
    "import tkinter as tk\n",
    "from tkinter import messagebox\n"
   ]
  },
  {
   "cell_type": "code",
   "execution_count": 4,
   "metadata": {},
   "outputs": [
    {
     "ename": "KeyboardInterrupt",
     "evalue": "",
     "output_type": "error",
     "traceback": [
      "\u001b[1;31m---------------------------------------------------------------------------\u001b[0m",
      "\u001b[1;31mKeyboardInterrupt\u001b[0m                         Traceback (most recent call last)",
      "Cell \u001b[1;32mIn[4], line 147\u001b[0m\n\u001b[0;32m    144\u001b[0m     pygame\u001b[38;5;241m.\u001b[39mquit()\n\u001b[0;32m    146\u001b[0m \u001b[38;5;28;01mif\u001b[39;00m \u001b[38;5;18m__name__\u001b[39m \u001b[38;5;241m==\u001b[39m \u001b[38;5;124m\"\u001b[39m\u001b[38;5;124m__main__\u001b[39m\u001b[38;5;124m\"\u001b[39m:\n\u001b[1;32m--> 147\u001b[0m     main()\n",
      "Cell \u001b[1;32mIn[4], line 123\u001b[0m, in \u001b[0;36mmain\u001b[1;34m()\u001b[0m\n\u001b[0;32m    121\u001b[0m \u001b[38;5;28;01mwhile\u001b[39;00m flag:\n\u001b[0;32m    122\u001b[0m     pygame\u001b[38;5;241m.\u001b[39mtime\u001b[38;5;241m.\u001b[39mdelay(\u001b[38;5;241m50\u001b[39m)\n\u001b[1;32m--> 123\u001b[0m     clock\u001b[38;5;241m.\u001b[39mtick(\u001b[38;5;241m10\u001b[39m)\n\u001b[0;32m    125\u001b[0m     \u001b[38;5;28;01mfor\u001b[39;00m event \u001b[38;5;129;01min\u001b[39;00m pygame\u001b[38;5;241m.\u001b[39mevent\u001b[38;5;241m.\u001b[39mget():\n\u001b[0;32m    126\u001b[0m         \u001b[38;5;28;01mif\u001b[39;00m event\u001b[38;5;241m.\u001b[39mtype \u001b[38;5;241m==\u001b[39m pygame\u001b[38;5;241m.\u001b[39mQUIT:\n",
      "\u001b[1;31mKeyboardInterrupt\u001b[0m: "
     ]
    }
   ],
   "source": [
    "class Cube(object):\n",
    "    def __init__(self, start, rows, dirnx=0, dirny=0, color=(255, 0, 0)):\n",
    "        self.pos = start\n",
    "        self.rows = rows  # Add rows to the Cube class\n",
    "        self.dirnx = dirnx\n",
    "        self.dirny = dirny\n",
    "        self.color = color\n",
    "\n",
    "    def draw(self, surface, eyes=False):\n",
    "        size = surface.get_width() // self.rows  # Use self.rows instead of rows\n",
    "        i, j = self.pos\n",
    "        pygame.draw.rect(surface, self.color, (i*size+1, j*size+1, size-2, size-2))\n",
    "        if eyes:\n",
    "            centre = size // 2\n",
    "            radius = 3\n",
    "            eye1 = (i*size + centre - radius, j*size + 8)\n",
    "            eye2 = (i*size + size - radius*2, j*size + 8)\n",
    "            pygame.draw.circle(surface, (0,0,0), eye1, radius)\n",
    "            pygame.draw.circle(surface, (0,0,0), eye2, radius)\n",
    "\n",
    "class Snake(object):\n",
    "    def __init__(self, color, pos, rows):\n",
    "        self.color = color\n",
    "        self.rows = rows\n",
    "        self.head = Cube(pos, self.rows)  # Pass rows to Cube\n",
    "        self.body = [self.head]\n",
    "        self.turns = {}\n",
    "        self.dirnx = 0\n",
    "        self.dirny = 1\n",
    "\n",
    "    def move(self):\n",
    "        keys = pygame.key.get_pressed()\n",
    "        \n",
    "        # Prevent 180-degree turns\n",
    "        if keys[pygame.K_LEFT] and self.dirnx != 1:\n",
    "            self.dirnx = -1\n",
    "            self.dirny = 0\n",
    "            self.turns[self.head.pos[:]] = [self.dirnx, self.dirny]\n",
    "        elif keys[pygame.K_RIGHT] and self.dirnx != -1:\n",
    "            self.dirnx = 1\n",
    "            self.dirny = 0\n",
    "            self.turns[self.head.pos[:]] = [self.dirnx, self.dirny]\n",
    "        elif keys[pygame.K_UP] and self.dirny != 1:\n",
    "            self.dirnx = 0\n",
    "            self.dirny = -1\n",
    "            self.turns[self.head.pos[:]] = [self.dirnx, self.dirny]\n",
    "        elif keys[pygame.K_DOWN] and self.dirny != -1:\n",
    "            self.dirnx = 0\n",
    "            self.dirny = 1\n",
    "            self.turns[self.head.pos[:]] = [self.dirnx, self.dirny]\n",
    "\n",
    "        for i, cube in enumerate(self.body):\n",
    "            p = cube.pos[:]\n",
    "            if p in self.turns:\n",
    "                turn = self.turns[p]\n",
    "                cube.dirnx, cube.dirny = turn\n",
    "                if i == len(self.body)-1:\n",
    "                    self.turns.pop(p)\n",
    "\n",
    "            # Update position and handle grid wrapping\n",
    "            cube.pos = (\n",
    "                (cube.pos[0] + cube.dirnx) % self.rows,\n",
    "                (cube.pos[1] + cube.dirny) % self.rows\n",
    "            )\n",
    "\n",
    "    def reset(self, pos):\n",
    "        self.body = []\n",
    "        self.head = Cube(pos)\n",
    "        self.body.append(self.head)\n",
    "        self.turns = {}\n",
    "        self.dirnx = 0\n",
    "        self.dirny = 1\n",
    "\n",
    "    def addCube(self):\n",
    "        tail = self.body[-1]\n",
    "        dx, dy = tail.dirnx, tail.dirny\n",
    "        new_pos = (tail.pos[0] - dx, tail.pos[1] - dy)\n",
    "        new_cube = Cube(new_pos, self.rows, dx, dy, self.color)  # Pass rows\n",
    "        self.body.append(new_cube)\n",
    "\n",
    "    def draw(self, surface):\n",
    "        for i, cube in enumerate(self.body):\n",
    "            cube.draw(surface, eyes=(i == 0))\n",
    "\n",
    "def drawGrid(w, rows, surface):\n",
    "    sizeBtwn = w // rows\n",
    "    x = 0\n",
    "    y = 0\n",
    "    for _ in range(rows):\n",
    "        x += sizeBtwn\n",
    "        y += sizeBtwn\n",
    "        pygame.draw.line(surface, (255,255,255), (x,0), (x,w))\n",
    "        pygame.draw.line(surface, (255,255,255), (0,y), (w,y))\n",
    "\n",
    "def randomSnack(rows, snake):\n",
    "    while True:\n",
    "        x = random.randrange(1, rows-1)\n",
    "        y = random.randrange(1, rows-1)\n",
    "        if all((x, y) != cube.pos for cube in snake.body):\n",
    "            return (x, y)\n",
    "\n",
    "def redrawWindow(surface, width, rows, snake, snack):\n",
    "    surface.fill((0,0,0))\n",
    "    drawGrid(width, rows, surface)\n",
    "    snake.draw(surface)\n",
    "    pygame.draw.rect(surface, (0,255,0), \n",
    "                    (snack[0]*(width//rows)+1, snack[1]*(width//rows)+1,\n",
    "                     (width//rows)-2, (width//rows)-2))\n",
    "    pygame.display.update()\n",
    "\n",
    "def main():\n",
    "    width = 500\n",
    "    rows = 20\n",
    "    pygame.init()\n",
    "    win = pygame.display.set_mode((width, width))\n",
    "    s = Snake((255,0,0), (10,10), rows)\n",
    "    snack = randomSnack(rows, s)\n",
    "    flag = True\n",
    "    clock = pygame.time.Clock()\n",
    "\n",
    "    while flag:\n",
    "        pygame.time.delay(50)\n",
    "        clock.tick(10)\n",
    "        \n",
    "        for event in pygame.event.get():\n",
    "            if event.type == pygame.QUIT:\n",
    "                flag = False\n",
    "\n",
    "        s.move()\n",
    "        \n",
    "        # Check if snake ate snack\n",
    "        if s.head.pos == snack:\n",
    "            s.addCube()\n",
    "            snack = randomSnack(rows, s)\n",
    "\n",
    "        # Check self-collision\n",
    "        for cube in s.body[1:]:\n",
    "            if cube.pos == s.head.pos:\n",
    "                s.reset((10,10))\n",
    "                break\n",
    "\n",
    "        redrawWindow(win, width, rows, s, snack)\n",
    "\n",
    "    pygame.quit()\n",
    "\n",
    "if __name__ == \"__main__\":\n",
    "    main()"
   ]
  }
 ],
 "metadata": {
  "kernelspec": {
   "display_name": "base",
   "language": "python",
   "name": "python3"
  },
  "language_info": {
   "codemirror_mode": {
    "name": "ipython",
    "version": 3
   },
   "file_extension": ".py",
   "mimetype": "text/x-python",
   "name": "python",
   "nbconvert_exporter": "python",
   "pygments_lexer": "ipython3",
   "version": "3.11.4"
  }
 },
 "nbformat": 4,
 "nbformat_minor": 2
}
